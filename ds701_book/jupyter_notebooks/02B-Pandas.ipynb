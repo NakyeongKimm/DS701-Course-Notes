{
  "cells": [
    {
      "cell_type": "markdown",
      "metadata": {},
      "source": [
        "---\n",
        "title: 'Essential Tools: Pandas'\n",
        "jupyter: python3\n",
        "code-fold: false\n",
        "---\n",
        "\n",
        "::: {.content-visible when-profile=\"web\"}\n",
        "## Introduction\n",
        "\n",
        "[![](https://colab.research.google.com/assets/colab-badge.svg)](https://colab.research.google.com/github/tools4ds/DS701-Course-Notes/blob/main/ds701_book/jupyter_notebooks/02B-Pandas.ipynb)\n",
        "\n",
        "In this lecture we discuss one of most useful Python packages for data \n",
        "science -- Pandas.\n",
        "\n",
        "We'll touch on some highlights here, but to learn more, start with the\n",
        "[Pandas Getting started tutorials](https://pandas.pydata.org/docs/getting_started/intro_tutorials/index.html)\n",
        ":::\n",
        "\n",
        "## Pandas\n",
        "\n",
        "::: {.incremental}\n",
        "\n",
        "- [Pandas](https://pandas.pydata.org/docs/index.html) is a Python library for data\n",
        "manipulation and analysis with an emphasis on tabular data. \n",
        "- It can be used to produce high quality plots and integrates nicely with other\n",
        "  libraries that expect NumPy arrays. \n",
        "- Knowledge and use of Pandas is essential as a data scientist.\n",
        ":::\n",
        "\n",
        ":::: {.fragment}\n",
        "The most important data structure provided by Pandas is the `DataFrame`\n",
        "implemented in the \n",
        "[DataFrame](https://pandas.pydata.org/docs/reference/frame.html) class. \n",
        "::::\n",
        "\n",
        ":::: {.fragment}\n",
        "Unlike a numpy array, a `DataFrame` can have columns of different types.\n",
        "::::\n",
        "\n",
        ":::: {.fragment}\n",
        "Make it a habit that when you're given a tabular dataset, load it into a `DataFrame`.\n",
        "::::\n",
        "\n",
        "## Fetching, storing and retrieving your data\n",
        "\n",
        "We'll work with stock data. A popular python package for this is `yfinance`, but\n",
        "there seems to be some access rate limits which make it more difficult to use.\n",
        "\n",
        "Instead we'll manually download a CSV file:\n",
        "\n",
        "    MANUAL DOWNLOAD FROM WALL STREET JOURNAL:\n",
        "    \n",
        "    1. Go to: https://www.wsj.com/market-data/quotes/NVDA/historical-prices\n",
        "    2. Set date range: January 1, 2024 to December 31, 2024\n",
        "    3. Click \"Download\" button\n",
        "    4. Save the CSV file\n",
        "    5. Load in Python:"
      ]
    },
    {
      "cell_type": "code",
      "execution_count": null,
      "metadata": {},
      "outputs": [],
      "source": [
        "import pandas as pd\n",
        "\n",
        "try:\n",
        "    nvidia_stocks = pd.read_csv('data/stocks/nvidia_stock_2024.csv', index_col=0)\n",
        "except FileNotFoundError:\n",
        "    url = 'https://raw.githubusercontent.com/tools4ds/DS701-Course-Notes/main/ds701_book/data/stocks/nvidia_stock_2024.csv'\n",
        "    nvidia_stocks = pd.read_csv(url, index_col=0)\n",
        "\n",
        "nvidia_stocks = nvidia_stocks.sort_index()"
      ]
    },
    {
      "cell_type": "markdown",
      "metadata": {},
      "source": [
        "---\n",
        "\n",
        "It's important to inspect the data you are working with and Pandas provides a\n",
        "variety of methods to do so such as `.head()`, `.tail()`, `.info()`,\n",
        "`.describe()`, etc."
      ]
    },
    {
      "cell_type": "code",
      "execution_count": null,
      "metadata": {},
      "outputs": [],
      "source": [
        "#| code-fold: false\n",
        "nvidia_stocks.head()"
      ]
    },
    {
      "cell_type": "markdown",
      "metadata": {},
      "source": [
        "Notice how each row has a label and each column has a label.\n",
        "\n",
        "---\n",
        "\n",
        "A DataFrame is a python object that has many associated methods to explore and\n",
        "manipulate the data.\n",
        "\n",
        "The method `.info()` gives you a description of the dataframe."
      ]
    },
    {
      "cell_type": "code",
      "execution_count": null,
      "metadata": {},
      "outputs": [],
      "source": [
        "nvidia_stocks.info()"
      ]
    },
    {
      "cell_type": "markdown",
      "metadata": {},
      "source": [
        "---\n",
        "\n",
        "The method `.describe()` gives you summary statistics of the dataframe."
      ]
    },
    {
      "cell_type": "code",
      "execution_count": null,
      "metadata": {},
      "outputs": [],
      "source": [
        "nvidia_stocks.describe()"
      ]
    },
    {
      "cell_type": "markdown",
      "metadata": {},
      "source": [
        "## Writing/Reading to/from a ``.csv`` file\n",
        "\n",
        "Pandas can read and write dataframes with many file formats such as `.csv`, `.json`, `.parquet`,\n",
        "`.xlsx`, `.html`, `SQL`, etc.\n",
        "\n",
        "Here we write the dataframe to a `.csv` file."
      ]
    },
    {
      "cell_type": "code",
      "execution_count": null,
      "metadata": {},
      "outputs": [],
      "source": [
        "nvidia_stocks.to_csv('nvidia_data.csv')"
      ]
    },
    {
      "cell_type": "markdown",
      "metadata": {},
      "source": [
        "We can escape a shell command using the `!` operator to see the top of the file."
      ]
    },
    {
      "cell_type": "code",
      "execution_count": null,
      "metadata": {},
      "outputs": [],
      "source": [
        "!head nvidia_data.csv"
      ]
    },
    {
      "cell_type": "markdown",
      "metadata": {},
      "source": [
        "---\n",
        "\n",
        "And of course we can likewise read a `.csv` file into a dataframe.  This is probably the most common way you will get data into Pandas."
      ]
    },
    {
      "cell_type": "code",
      "execution_count": null,
      "metadata": {},
      "outputs": [],
      "source": [
        "df = pd.read_csv('nvidia_data.csv')\n",
        "df.head()"
      ]
    },
    {
      "cell_type": "markdown",
      "metadata": {},
      "source": [
        "::: {.callout-caution}\n",
        "But be careful, the index column is not automatically set.\n",
        ":::"
      ]
    },
    {
      "cell_type": "code",
      "execution_count": null,
      "metadata": {},
      "outputs": [],
      "source": [
        "df.info()"
      ]
    },
    {
      "cell_type": "markdown",
      "metadata": {},
      "source": [
        "Note the index description.\n",
        "\n",
        "---\n",
        "\n",
        "To set the index column, we can use the `index_col` parameter."
      ]
    },
    {
      "cell_type": "code",
      "execution_count": null,
      "metadata": {},
      "outputs": [],
      "source": [
        "df = pd.read_csv('nvidia_data.csv', index_col=0)\n",
        "df.info()"
      ]
    },
    {
      "cell_type": "markdown",
      "metadata": {},
      "source": [
        "## Working with data columns\n",
        "\n",
        "In general, we'll typically describe the rows in the dataframe as **items** \n",
        "(or **observations** or **data samples**) and the columns as **features**."
      ]
    },
    {
      "cell_type": "code",
      "execution_count": null,
      "metadata": {},
      "outputs": [],
      "source": [
        "df.columns"
      ]
    },
    {
      "cell_type": "markdown",
      "metadata": {},
      "source": [
        "Pandas allows you to reference a column similar to a python dictionary key,\n",
        "using column names in square brackets."
      ]
    },
    {
      "cell_type": "code",
      "execution_count": null,
      "metadata": {},
      "outputs": [],
      "source": [
        "df['Open']"
      ]
    },
    {
      "cell_type": "markdown",
      "metadata": {},
      "source": [
        "Note that this returns a `Series` object, the other fundamental data structure in Pandas."
      ]
    },
    {
      "cell_type": "code",
      "execution_count": null,
      "metadata": {},
      "outputs": [],
      "source": [
        "type(df['Open'])"
      ]
    },
    {
      "cell_type": "markdown",
      "metadata": {},
      "source": [
        "Also note that Series is indexed in this case by dates rather than simple integers.\n",
        "\n",
        "---\n",
        "\n",
        "Pandas also allows you to refer to columns using an object attribute syntax.\n",
        "\n",
        "Note that the column name cannot include a space in this case."
      ]
    },
    {
      "cell_type": "code",
      "execution_count": null,
      "metadata": {},
      "outputs": [],
      "source": [
        "df.Open"
      ]
    },
    {
      "cell_type": "markdown",
      "metadata": {},
      "source": [
        "---\n",
        "\n",
        "You can select a list of columns:"
      ]
    },
    {
      "cell_type": "code",
      "execution_count": null,
      "metadata": {},
      "outputs": [],
      "source": [
        "df[['Open', 'Close']].head()"
      ]
    },
    {
      "cell_type": "markdown",
      "metadata": {},
      "source": [
        "Which is just another dataframe, which is why we can chain the `.head()` method."
      ]
    },
    {
      "cell_type": "code",
      "execution_count": null,
      "metadata": {},
      "outputs": [],
      "source": [
        "type(df[['Open', 'Close']])"
      ]
    },
    {
      "cell_type": "markdown",
      "metadata": {},
      "source": [
        "---\n",
        "\n",
        "Changing column names is as simple as assigning to the `.columns` property.\n",
        "\n",
        "Let's adjust the column names to remove spaces."
      ]
    },
    {
      "cell_type": "code",
      "execution_count": null,
      "metadata": {},
      "outputs": [],
      "source": [
        "new_column_names = [x.lower().replace(' ', '_') for x in df.columns]\n",
        "df.columns = new_column_names\n",
        "df.info()"
      ]
    },
    {
      "cell_type": "markdown",
      "metadata": {},
      "source": [
        "Observe that we first created a list of column names without spaces using __list comprehension__. This is the pythonic way to generate a new list.\n",
        "\n",
        "Now **all** columns can be accessed using the **dot** notation.\n",
        "\n",
        "\n",
        "## A sampling of DataFrame methods.\n",
        "\n",
        "There are many useful methods in the DataFrame object. It is important to\n",
        "familiarize yourself with these methods.\n",
        "\n",
        "The following methods calculate the mean, standard deviation, and median of the specified numeric columns."
      ]
    },
    {
      "cell_type": "code",
      "execution_count": null,
      "metadata": {},
      "outputs": [],
      "source": [
        "df.mean()"
      ]
    },
    {
      "cell_type": "markdown",
      "metadata": {},
      "source": [
        "or we can give a list of columns to the Dataframe object:"
      ]
    },
    {
      "cell_type": "code",
      "execution_count": null,
      "metadata": {},
      "outputs": [],
      "source": [
        "df[['open', 'close', 'volume']].mean()"
      ]
    },
    {
      "cell_type": "code",
      "execution_count": null,
      "metadata": {},
      "outputs": [],
      "source": [
        "df.std()"
      ]
    },
    {
      "cell_type": "code",
      "execution_count": null,
      "metadata": {},
      "outputs": [],
      "source": [
        "df.median()"
      ]
    },
    {
      "cell_type": "markdown",
      "metadata": {},
      "source": [
        "Or apply the method to a single column:"
      ]
    },
    {
      "cell_type": "code",
      "execution_count": null,
      "metadata": {},
      "outputs": [],
      "source": [
        "df.open.mean()"
      ]
    },
    {
      "cell_type": "code",
      "execution_count": null,
      "metadata": {},
      "outputs": [],
      "source": [
        "df.high.mean()"
      ]
    },
    {
      "cell_type": "markdown",
      "metadata": {},
      "source": [
        "## Plotting methods\n",
        "\n",
        "Pandas also wraps `matplotlib` and provides a variety of easy-to-use plotting\n",
        "functions directly from the dataframe object.\n",
        "\n",
        "These are your \"first look\" functions and useful in exploratory data analysis.\n",
        "\n",
        "Later, we will use more specialized graphics packages to create more\n",
        "sophisticated visualizations."
      ]
    },
    {
      "cell_type": "code",
      "execution_count": null,
      "metadata": {},
      "outputs": [],
      "source": [
        "import matplotlib.pyplot as plt\n",
        "\n",
        "df.high.plot(label='High')\n",
        "df.low.plot(label='Low')\n",
        "plt.title('NVIDIA Stock Price')\n",
        "plt.ylabel('Dollars')\n",
        "plt.legend(loc='best')\n",
        "plt.show()"
      ]
    },
    {
      "cell_type": "markdown",
      "metadata": {},
      "source": [
        "---\n",
        "\n",
        "Or a histogram on the adjusted closing price."
      ]
    },
    {
      "cell_type": "code",
      "execution_count": null,
      "metadata": {},
      "outputs": [],
      "source": [
        "df.close.hist()\n",
        "plt.xlabel('Closing Price')\n",
        "plt.ylabel('Dollars')\n",
        "plt.title('NVIDIA Stock Price')\n",
        "plt.show()"
      ]
    },
    {
      "cell_type": "markdown",
      "metadata": {},
      "source": [
        "## Accessing rows of the DataFrame\n",
        "\n",
        "So far we've seen how to access a column of the DataFrame. To access a row we use different syntax.\n",
        "\n",
        "To access a row by its index label, use the **`.loc()`** method ('location')."
      ]
    },
    {
      "cell_type": "code",
      "execution_count": null,
      "metadata": {},
      "outputs": [],
      "source": [
        "df.loc['01/02/24']"
      ]
    },
    {
      "cell_type": "markdown",
      "metadata": {},
      "source": [
        "As a tangent, we can use the `.apply()` method to format the output."
      ]
    },
    {
      "cell_type": "code",
      "execution_count": null,
      "metadata": {},
      "outputs": [],
      "source": [
        "df.loc['01/02/24'].apply(lambda x: '{:,.2f}'.format(x) if isinstance(x, (int, float)) else x)"
      ]
    },
    {
      "cell_type": "markdown",
      "metadata": {},
      "source": [
        "---\n",
        "\n",
        "To access a row by its index number (i.e., like an array index), use **`.iloc()`** ('integer location')"
      ]
    },
    {
      "cell_type": "code",
      "execution_count": null,
      "metadata": {},
      "outputs": [],
      "source": [
        "df.iloc[0, :]"
      ]
    },
    {
      "cell_type": "markdown",
      "metadata": {},
      "source": [
        "and similarly formatted:"
      ]
    },
    {
      "cell_type": "code",
      "execution_count": null,
      "metadata": {},
      "outputs": [],
      "source": [
        "df.iloc[0, :].apply(lambda x: '{:,.2f}'.format(x) if isinstance(x, (int, float)) else x)"
      ]
    },
    {
      "cell_type": "markdown",
      "metadata": {},
      "source": [
        "---\n",
        "\n",
        "To iterate over the rows you can use **`.iterrows()`**."
      ]
    },
    {
      "cell_type": "code",
      "execution_count": null,
      "metadata": {},
      "outputs": [],
      "source": [
        "num_positive_days = 0\n",
        "for idx, row in df.iterrows():\n",
        "    if row.close > row.open:\n",
        "        num_positive_days += 1\n",
        "\n",
        "print(f\"The total number of positive-gain days is {num_positive_days} out of {len(df)} days or as percentage {num_positive_days/len(df):.2%}\")"
      ]
    },
    {
      "cell_type": "markdown",
      "metadata": {},
      "source": [
        "::: {.callout-note}\n",
        "This is only capturing the intraday gain/loss, not the cumulative inter-day gain/loss.\n",
        ":::\n",
        "\n",
        "## Filtering\n",
        "\n",
        "It is easy to select rows from the data.  \n",
        "\n",
        "All the operations below return a new Series or DataFrame, which itself can be\n",
        "treated the same way as all Series and DataFrames we have seen so far."
      ]
    },
    {
      "cell_type": "code",
      "execution_count": null,
      "metadata": {},
      "outputs": [],
      "source": [
        "tmp_high = df.high > 100\n",
        "tmp_high.tail()"
      ]
    },
    {
      "cell_type": "markdown",
      "metadata": {},
      "source": [
        "Summing a Boolean array is the same as counting the number of `True` values."
      ]
    },
    {
      "cell_type": "code",
      "execution_count": null,
      "metadata": {},
      "outputs": [],
      "source": [
        "sum(tmp_high)"
      ]
    },
    {
      "cell_type": "markdown",
      "metadata": {},
      "source": [
        "---\n",
        "\n",
        "Now, let's select only the rows of `df` that correspond to `tmp_high`. \n",
        "\n",
        "::: {.callout-note}\n",
        "We can pass a series to the dataframe to select rows.\n",
        ":::"
      ]
    },
    {
      "cell_type": "code",
      "execution_count": null,
      "metadata": {},
      "outputs": [],
      "source": [
        "df[tmp_high]"
      ]
    },
    {
      "cell_type": "markdown",
      "metadata": {},
      "source": [
        "---\n",
        "\n",
        "Putting it all together, we can count the number of positive days without iterating over the rows."
      ]
    },
    {
      "cell_type": "code",
      "execution_count": null,
      "metadata": {},
      "outputs": [],
      "source": [
        "positive_days = df[df.close > df.open]\n",
        "print(f\"Total number of positive-gain days is {len(positive_days)}\")\n",
        "positive_days.head()"
      ]
    },
    {
      "cell_type": "markdown",
      "metadata": {},
      "source": [
        "---\n",
        "\n",
        "Or count the number of days with a gain of more than $2."
      ]
    },
    {
      "cell_type": "code",
      "execution_count": null,
      "metadata": {},
      "outputs": [],
      "source": [
        "very_positive_days = df[(df.close - df.open) > 2]\n",
        "print(f\"Total number of days with gain > $2 is {len(very_positive_days)}\")\n",
        "very_positive_days.head()"
      ]
    },
    {
      "cell_type": "markdown",
      "metadata": {},
      "source": [
        "Note that this doesn't the explain the total gain for the year. Why?\n",
        "\n",
        "## Creating new columns\n",
        "\n",
        "To create a new column, simply assign values to it. The column name is similar to a key in a dictionary.\n",
        "\n",
        "Let's look at the daily change in closing price."
      ]
    },
    {
      "cell_type": "code",
      "execution_count": null,
      "metadata": {},
      "outputs": [],
      "source": [
        "# Calculate the daily change in closing price\n",
        "df['daily_change'] = df['close'].diff()\n",
        "\n",
        "# Create the cumulative profit column\n",
        "df['cum_profit'] = df['daily_change'].cumsum()\n",
        "\n",
        "# Display the first few rows to verify the new column\n",
        "print(df[['close', 'daily_change', 'cum_profit']].head())"
      ]
    },
    {
      "cell_type": "markdown",
      "metadata": {},
      "source": [
        "It is convenient that `.diff()` by default is the difference between the current and previous row.\n",
        "\n",
        "---\n",
        "\n",
        "Let's look at the histogram of the daily change in stock price."
      ]
    },
    {
      "cell_type": "code",
      "execution_count": null,
      "metadata": {},
      "outputs": [],
      "source": [
        "# Plot histogram of daily_change\n",
        "plt.figure(figsize=(10, 6))\n",
        "df['daily_change'].hist(bins=50, edgecolor='black')\n",
        "plt.title('Histogram of Daily Change in Stock Price')\n",
        "plt.xlabel('Daily Change')\n",
        "plt.ylabel('Frequency')\n",
        "plt.show()"
      ]
    },
    {
      "cell_type": "markdown",
      "metadata": {},
      "source": [
        "---\n",
        "\n",
        "Let's give each row a `gain` value as a categorical variable."
      ]
    },
    {
      "cell_type": "code",
      "execution_count": null,
      "metadata": {},
      "outputs": [],
      "source": [
        "for idx, row in df.iterrows():\n",
        "    if row.daily_change < 0:\n",
        "        df.loc[idx,'cat_gain']='negative'\n",
        "    elif row.daily_change < 1:\n",
        "        df.loc[idx,'cat_gain']='small_gain'\n",
        "    elif row.daily_change < 2:\n",
        "        df.loc[idx,'cat_gain']='medium_gain'\n",
        "    elif row.daily_change >= 2:\n",
        "        df.loc[idx,'cat_gain']='large_gain'\n",
        "df.head()"
      ]
    },
    {
      "cell_type": "markdown",
      "metadata": {},
      "source": [
        "---\n",
        "\n",
        "Here is another, more \"functional\", way to accomplish the same thing.\n",
        "\n",
        "First, let's drop the gain column so we can start fresh."
      ]
    },
    {
      "cell_type": "code",
      "execution_count": null,
      "metadata": {},
      "outputs": [],
      "source": [
        "df.drop('cat_gain', axis=1, inplace=True)\n",
        "df.head()"
      ]
    },
    {
      "cell_type": "markdown",
      "metadata": {},
      "source": [
        "---\n",
        "\n",
        "Define a function that classifies rows, and `apply` it to each row."
      ]
    },
    {
      "cell_type": "code",
      "execution_count": null,
      "metadata": {},
      "outputs": [],
      "source": [
        "def namerow(row):\n",
        "    if row.daily_change < 0:\n",
        "        return 'negative'\n",
        "    elif row.daily_change < 1:\n",
        "        return 'small_gain'\n",
        "    elif row.daily_change < 2:\n",
        "        return 'medium_gain'\n",
        "    elif row.daily_change >= 2:\n",
        "        return 'large_gain'\n",
        "\n",
        "df['cat_gain'] = df.apply(namerow, axis=1)\n",
        "df.head()"
      ]
    },
    {
      "cell_type": "markdown",
      "metadata": {},
      "source": [
        "## Grouping\n",
        "\n",
        "A powerful DataFrame method is `groupby()`. \n",
        "\n",
        "This is analagous to `GROUP BY` in SQL.\n",
        "\n",
        "It will group the rows of a DataFrame by the values in one (or more) columns and let you iterate through each group.\n",
        "\n",
        "Here we will look at the average gain among the categories of gains (negative, small, medium, and large) we defined above and stored in the column `gain`."
      ]
    },
    {
      "cell_type": "code",
      "execution_count": null,
      "metadata": {},
      "outputs": [],
      "source": [
        "gain_groups = df.groupby(by='cat_gain')"
      ]
    },
    {
      "cell_type": "markdown",
      "metadata": {},
      "source": [
        "---\n",
        "\n",
        "Essentially, `gain_groups` behaves like a dictionary:\n",
        "\n",
        "* the keys are the unique values found in the `gain` column, and \n",
        "* the values are DataFrames that contain only the rows having the corresponding unique values."
      ]
    },
    {
      "cell_type": "code",
      "execution_count": null,
      "metadata": {},
      "outputs": [],
      "source": [
        "for gain, gain_data in gain_groups:\n",
        "    print(gain)\n",
        "    print(gain_data[['close', 'daily_change']].head())\n",
        "    print('=============================')"
      ]
    },
    {
      "cell_type": "code",
      "execution_count": null,
      "metadata": {},
      "outputs": [],
      "source": [
        "for gain, gain_data in df.groupby(\"cat_gain\"):\n",
        "    print('The average daily change for the {} group is {}'.format(gain,\n",
        "                                                           gain_data.daily_change.mean()))"
      ]
    },
    {
      "cell_type": "markdown",
      "metadata": {},
      "source": [
        "## Other Pandas Classes\n",
        "\n",
        "A DataFrame is essentially an annotated 2-D array.\n",
        "\n",
        "Pandas also has annotated versions of 1-D and 3-D arrays.\n",
        "\n",
        "A 1-D array in Pandas is called a [Series](https://pandas.pydata.org/docs/reference/series.html). \n",
        "You can think of DataFrames as a dictionary of Series.\n",
        "\n",
        "A 3-D array in Pandas is created using a\n",
        "[MultiIndex](https://pandas.pydata.org/docs/reference/api/pandas.MultiIndex.html#).\n",
        "\n",
        "For more information read the documentation."
      ]
    },
    {
      "cell_type": "markdown",
      "metadata": {},
      "source": [
        "\n",
        "## In Class Activity\n",
        "\n",
        "### Iris Flower Analysis with Pandas\n",
        "**Duration:** 20-25 minutes | **Teams:** 3 students each\n",
        "\n",
        "#### Dataset: Iris Flower Dataset\n",
        "**Download Instructions:**\n",
        "The Iris dataset is built into seaborn, so no download needed!"
      ]
    },
    {
      "cell_type": "code",
      "execution_count": 1,
      "metadata": {},
      "outputs": [
        {
          "name": "stderr",
          "output_type": "stream",
          "text": [
            "Matplotlib is building the font cache; this may take a moment.\n"
          ]
        }
      ],
      "source": [
        "import pandas as pd\n",
        "import seaborn as sns\n",
        "\n",
        "# Load the Iris dataset directly\n",
        "iris = sns.load_dataset('iris')"
      ]
    },
    {
      "cell_type": "markdown",
      "metadata": {},
      "source": [
        "#### Team Roles (2 minutes)\n",
        "- **Data Loader:** Loads data and explores structure\n",
        "- **Data Analyzer:** Performs calculations and filtering  \n",
        "- **Data Visualizer:** Creates plots and charts\n",
        "\n",
        "#### Activity Tasks (20 minutes)\n",
        "\n",
        "**Phase 1: Data Loading & Exploration (5 minutes)**\n",
        "1. Check the shape and column names\n",
        "2. Use `.head()`, `.info()`, and `.describe()` to explore the data"
      ]
    },
    {
      "cell_type": "code",
      "execution_count": 4,
      "metadata": {},
      "outputs": [
        {
          "name": "stdout",
          "output_type": "stream",
          "text": [
            "(150, 5)\n",
            "Index(['sepal_length', 'sepal_width', 'petal_length', 'petal_width',\n",
            "       'species'],\n",
            "      dtype='object')\n",
            "   sepal_length  sepal_width  petal_length  petal_width species\n",
            "0           5.1          3.5           1.4          0.2  setosa\n",
            "1           4.9          3.0           1.4          0.2  setosa\n",
            "2           4.7          3.2           1.3          0.2  setosa\n",
            "3           4.6          3.1           1.5          0.2  setosa\n",
            "4           5.0          3.6           1.4          0.2  setosa\n",
            "<class 'pandas.core.frame.DataFrame'>\n",
            "RangeIndex: 150 entries, 0 to 149\n",
            "Data columns (total 5 columns):\n",
            " #   Column        Non-Null Count  Dtype  \n",
            "---  ------        --------------  -----  \n",
            " 0   sepal_length  150 non-null    float64\n",
            " 1   sepal_width   150 non-null    float64\n",
            " 2   petal_length  150 non-null    float64\n",
            " 3   petal_width   150 non-null    float64\n",
            " 4   species       150 non-null    object \n",
            "dtypes: float64(4), object(1)\n",
            "memory usage: 6.0+ KB\n",
            "None\n",
            "       sepal_length  sepal_width  petal_length  petal_width\n",
            "count    150.000000   150.000000    150.000000   150.000000\n",
            "mean       5.843333     3.057333      3.758000     1.199333\n",
            "std        0.828066     0.435866      1.765298     0.762238\n",
            "min        4.300000     2.000000      1.000000     0.100000\n",
            "25%        5.100000     2.800000      1.600000     0.300000\n",
            "50%        5.800000     3.000000      4.350000     1.300000\n",
            "75%        6.400000     3.300000      5.100000     1.800000\n",
            "max        7.900000     4.400000      6.900000     2.500000\n"
          ]
        }
      ],
      "source": [
        "# Replace 0 and '[]' with the correct methods on iris\n",
        "print(iris.shape)\n",
        "print(iris.columns)\n",
        "\n",
        "# Look at the first few rows\n",
        "print(iris.head())\n",
        "\n",
        "# Get basic info about the dataset\n",
        "print(iris.info())\n",
        "\n",
        "# Describe the dataset with summary statistics\n",
        "print(iris.describe())"
      ]
    },
    {
      "cell_type": "markdown",
      "metadata": {},
      "source": [
        "**Phase 2: Basic Data Manipulation (8 minutes)**\n",
        "1. **Create new columns:**\n",
        "   - Add a 'petal_area' column (petal_length × petal_width)\n",
        "   - Create a 'sepal_area' column (sepal_length × sepal_width)\n",
        "   - Create a 'size_category' column:\n",
        "     - 'Small' (petal_area < 2)\n",
        "     - 'Medium' (petal_area 2-5) \n",
        "     - 'Large' (petal_area > 5)"
      ]
    },
    {
      "cell_type": "code",
      "execution_count": 5,
      "metadata": {},
      "outputs": [
        {
          "name": "stdout",
          "output_type": "stream",
          "text": [
            "New columns created:\n",
            "   petal_length  petal_width  petal_area size_category\n",
            "0           1.4          0.2        0.28         Small\n",
            "1           1.4          0.2        0.28         Small\n",
            "2           1.3          0.2        0.26         Small\n",
            "3           1.5          0.2        0.30         Small\n",
            "4           1.4          0.2        0.28         Small\n",
            "5           1.7          0.4        0.68         Small\n",
            "6           1.4          0.3        0.42         Small\n",
            "7           1.5          0.2        0.30         Small\n",
            "8           1.4          0.2        0.28         Small\n",
            "9           1.5          0.1        0.15         Small\n"
          ]
        }
      ],
      "source": [
        "# Create petal area column\n",
        "iris['petal_area'] = iris['petal_length'] * iris['petal_width']\n",
        "\n",
        "# Create sepal area column\n",
        "iris['sepal_area'] = iris['sepal_length'] * iris['sepal_width']\n",
        "\n",
        "# Create size category column\n",
        "def categorize_size(petal_area):\n",
        "    if petal_area < 2 :\n",
        "        return 'Small'\n",
        "    elif (petal_area >=2) & (petal_area < 5) :\n",
        "        return 'Medium'\n",
        "    else:\n",
        "        return 'Large'\n",
        "\n",
        "iris['size_category'] = iris['petal_area'].apply(categorize_size)\n",
        "\n",
        "print(\"New columns created:\")\n",
        "print(iris[['petal_length', 'petal_width', 'petal_area', 'size_category']].head(10))"
      ]
    },
    {
      "cell_type": "markdown",
      "metadata": {},
      "source": [
        "2. **Data Filtering:**\n",
        "   - Find all 'setosa' species flowers\n",
        "   - Filter for large flowers only\n",
        "   - Find flowers with sepal_length > 6\n"
      ]
    },
    {
      "cell_type": "code",
      "execution_count": 15,
      "metadata": {},
      "outputs": [
        {
          "name": "stdout",
          "output_type": "stream",
          "text": [
            "Setosa flowers: 50 out of 150\n",
            "Large flowers: 87 out of 150\n",
            "Flowers with sepal_length > 6: 61 out of 150\n"
          ]
        }
      ],
      "source": [
        "# Find all 'setosa' species flowers\n",
        "setosa_flowers = iris[iris.species == 'setosa']\n",
        "print(f\"Setosa flowers: {len(setosa_flowers)} out of {len(iris)}\")\n",
        "\n",
        "# Filter for large flowers only\n",
        "large_flowers = iris[iris.size_category =='Large']\n",
        "print(f\"Large flowers: {len(large_flowers)} out of {len(iris)}\")\n",
        "\n",
        "# Find flowers with sepal_length > 6\n",
        "long_sepal = iris[iris.sepal_length > 6]\n",
        "print(f\"Flowers with sepal_length > 6: {len(long_sepal)} out of {len(iris)}\")\n"
      ]
    },
    {
      "cell_type": "markdown",
      "metadata": {},
      "source": [
        "3. **Basic Analysis:**\n",
        "   - Count flowers by species\n",
        "   - Find average petal length by species"
      ]
    },
    {
      "cell_type": "code",
      "execution_count": 24,
      "metadata": {},
      "outputs": [
        {
          "name": "stdout",
          "output_type": "stream",
          "text": [
            "Flowers by species:\n",
            "species\n",
            "setosa        50\n",
            "versicolor    50\n",
            "virginica     50\n",
            "Name: species, dtype: int64\n",
            "\n",
            "Average petal length by species:\n",
            "species\n",
            "setosa        1.462\n",
            "versicolor    4.260\n",
            "virginica     5.552\n",
            "Name: petal_length, dtype: float64\n"
          ]
        }
      ],
      "source": [
        "# Count flowers by species\n",
        "species_counts = iris.groupby(by='species')['species'].count()\n",
        "print(\"Flowers by species:\")\n",
        "print(species_counts)\n",
        "\n",
        "# Find average petal length by species\n",
        "avg_petal_by_species = iris.groupby(by='species')['petal_length'].mean()\n",
        "print(\"\\nAverage petal length by species:\")\n",
        "print(avg_petal_by_species)"
      ]
    },
    {
      "cell_type": "markdown",
      "metadata": {},
      "source": [
        "**Phase 3: Simple Visualizations (7 minutes)**\n",
        "1. **Create 2-3 basic plots:**\n",
        "   - Histogram of petal length\n",
        "   - Bar chart of flower count by species\n",
        "   - Scatter plot: sepal_length vs sepal_width\n"
      ]
    },
    {
      "cell_type": "code",
      "execution_count": 23,
      "metadata": {},
      "outputs": [
        {
          "data": {
            "image/png": "[encoded data removed]",
            "text/plain": [
              "<Figure size 1500x1000 with 4 Axes>"
            ]
          },
          "metadata": {},
          "output_type": "display_data"
        }
      ],
      "source": [
        "import matplotlib.pyplot as plt\n",
        "\n",
        "# Create a figure with subplots\n",
        "fig, axes = plt.subplots(2, 2, figsize=(15, 10))\n",
        "\n",
        "# 1. Histogram of petal length\n",
        "axes[0, 0].hist(iris['petal_length'], bins=15, alpha=0.7, edgecolor='black', color='skyblue')\n",
        "axes[0, 0].set_title('Distribution of Petal Length')\n",
        "axes[0, 0].set_xlabel('Petal Length (cm)')\n",
        "axes[0, 0].set_ylabel('Frequency')\n",
        "axes[0, 0].grid(True, alpha=0.3)\n",
        "\n",
        "# 2. Bar chart of flower count by species\n",
        "species_counts = iris['species'].value_counts()\n",
        "species_counts.plot(kind='bar', ax=axes[0, 1], color=['red', 'green', 'blue'])\n",
        "axes[0, 1].set_title('Number of Flowers by Species')\n",
        "axes[0, 1].set_xlabel('Species')\n",
        "axes[0, 1].set_ylabel('Number of Flowers')\n",
        "axes[0, 1].tick_params(axis='x', rotation=45)\n",
        "axes[0, 1].grid(True, alpha=0.3)\n",
        "\n",
        "# 3. Scatter plot: sepal_length vs sepal_width\n",
        "for species in iris['species'].unique():\n",
        "    data = iris[iris['species'] == species]\n",
        "    axes[1, 0].scatter(data['sepal_length'], data['sepal_width'], \n",
        "                      alpha=0.7, label=species, s=50)\n",
        "axes[1, 0].set_title('Sepal Length vs Sepal Width (by Species)')\n",
        "axes[1, 0].set_xlabel('Sepal Length (cm)')\n",
        "axes[1, 0].set_ylabel('Sepal Width (cm)')\n",
        "axes[1, 0].legend()\n",
        "axes[1, 0].grid(True, alpha=0.3)\n",
        "\n",
        "# 4. Bar chart of size categories (if size_category column exists)\n",
        "if 'size_category' in iris.columns:\n",
        "    size_categories = iris['size_category'].value_counts()\n",
        "    size_categories.plot(kind='bar', ax=axes[1, 1], color=['orange', 'lightgreen', 'lightcoral'])\n",
        "    axes[1, 1].set_title('Flowers by Size Category')\n",
        "    axes[1, 1].set_xlabel('Size Category')\n",
        "    axes[1, 1].set_ylabel('Number of Flowers')\n",
        "    axes[1, 1].tick_params(axis='x', rotation=0)\n",
        "    axes[1, 1].grid(True, alpha=0.3)\n",
        "else:\n",
        "    # Alternative: petal length vs petal width scatter\n",
        "    axes[1, 1].scatter(iris['petal_length'], iris['petal_width'], alpha=0.7, s=50)\n",
        "    axes[1, 1].set_title('Petal Length vs Petal Width')\n",
        "    axes[1, 1].set_xlabel('Petal Length (cm)')\n",
        "    axes[1, 1].set_ylabel('Petal Width (cm)')\n",
        "    axes[1, 1].grid(True, alpha=0.3)\n",
        "\n",
        "plt.tight_layout()\n",
        "plt.show()"
      ]
    },
    {
      "cell_type": "markdown",
      "metadata": {},
      "source": [
        "**Upon Completion:**\n",
        "\n",
        "Execute all the cells, save and download the notebook and submit to Gradescope.\n"
      ]
    },
    {
      "cell_type": "markdown",
      "metadata": {},
      "source": [
        "## Recap\n",
        "\n",
        "In this section we got a first glimpse of the Pandas library.\n",
        "\n",
        "We learned how to:\n",
        "\n",
        "* load data from a CSV file\n",
        "* inspect the data\n",
        "* manipulate the data\n",
        "* plot the data\n",
        "* access rows and columns of the dataframe\n",
        "* filter the data\n",
        "* create new columns\n",
        "* group the data\n",
        "* compute the correlation between variables"
      ]
    }
  ],
  "metadata": {
    "kernelspec": {
      "display_name": "DS701",
      "language": "python",
      "name": "python3"
    },
    "language_info": {
      "codemirror_mode": {
        "name": "ipython",
        "version": 3
      },
      "file_extension": ".py",
      "mimetype": "text/x-python",
      "name": "python",
      "nbconvert_exporter": "python",
      "pygments_lexer": "ipython3",
      "version": "3.11.13"
    }
  },
  "nbformat": 4,
  "nbformat_minor": 4
}
